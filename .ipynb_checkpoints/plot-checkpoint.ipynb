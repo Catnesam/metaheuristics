{
 "cells": [
  {
   "cell_type": "code",
   "execution_count": 45,
   "metadata": {},
   "outputs": [
    {
     "name": "stdout",
     "output_type": "stream",
     "text": [
      "PSO\n"
     ]
    }
   ],
   "source": [
    "import seaborn as sns\n",
    "import matplotlib.pyplot as plt\n",
    "import pickle as pkl\n",
    "import numpy as np\n",
    "from plot import AlgoInfor\n",
    "with open('./history/overall/algo_dict_info.pkl', 'rb') as f:\n",
    "        algo_infor = pkl.load(f)\n",
    "print(algo_infor['PSO'].name)"
   ]
  },
  {
   "cell_type": "code",
   "execution_count": 104,
   "metadata": {},
   "outputs": [
    {
     "name": "stdout",
     "output_type": "stream",
     "text": [
      "s\n",
      "PSO\n",
      "ABFOLS\n",
      "CRO\n",
      "ABC\n",
      "QSO\n"
     ]
    },
    {
     "data": {
      "image/png": "[encoded data removed]",
      "text/plain": [
       "<Figure size 432x288 with 1 Axes>"
      ]
     },
     "metadata": {
      "needs_background": "light"
     },
     "output_type": "display_data"
    }
   ],
   "source": [
    "def plot_loss(fun_index):\n",
    "    losses = []\n",
    "    names = []\n",
    "    x = np.arange(len(algo_infor['ABC'].loss[1]))\n",
    "    print(\"s\")\n",
    "    labels=['PSO','CRO','ABC','QSO']\n",
    "    for name,al in algo_infor.items(): \n",
    "        print(name)\n",
    "        if(name in labels):\n",
    "            ax = sns.lineplot(x=x, y=al.loss[fun_index])\n",
    "    plt.legend(labels=labels)\n",
    "    plt.show()\n",
    "    \n",
    "        \n",
    "plot_loss(19)"
   ]
  },
  {
   "cell_type": "code",
   "execution_count": 53,
   "metadata": {},
   "outputs": [
    {
     "name": "stdout",
     "output_type": "stream",
     "text": [
      "[1000000.         1000000.         1000000.         1000000.\n",
      " 1000000.         1000000.         1000000.         1000000.\n",
      " 1000000.         1000000.         1000000.         1000000.\n",
      " 1000000.         1000000.         1000000.         1000000.\n",
      " 1000000.         1000000.         1000000.         1000000.\n",
      " 1000000.         1000000.         1000000.         1000000.\n",
      " 1000000.         1000000.         1000000.         1000000.\n",
      " 1000000.         1000000.         1000000.         1000000.\n",
      " 1000000.         1000000.         1000000.         1000000.\n",
      " 1000000.         1000000.         1000000.         1000000.\n",
      " 1000000.         1000000.         1000000.         1000000.\n",
      " 1000000.         1000000.         1000000.         1000000.\n",
      " 1000000.         1000000.         1000000.         1000000.\n",
      " 1000000.         1000000.         1000000.         1000000.\n",
      " 1000000.         1000000.         1000000.         1000000.\n",
      " 1000000.         1000000.         1000000.         1000000.\n",
      " 1000000.         1000000.         1000000.         1000000.\n",
      " 1000000.         1000000.         1000000.         1000000.\n",
      " 1000000.         1000000.         1000000.         1000000.\n",
      " 1000000.         1000000.         1000000.         1000000.\n",
      " 1000000.         1000000.         1000000.         1000000.\n",
      " 1000000.         1000000.         1000000.         1000000.\n",
      " 1000000.         1000000.         1000000.         1000000.\n",
      " 1000000.         1000000.         1000000.         1000000.\n",
      " 1000000.         1000000.         1000000.         1000000.\n",
      " 1000000.         1000000.         1000000.         1000000.\n",
      " 1000000.         1000000.         1000000.         1000000.\n",
      " 1000000.         1000000.         1000000.         1000000.\n",
      " 1000000.         1000000.         1000000.         1000000.\n",
      " 1000000.         1000000.         1000000.         1000000.\n",
      " 1000000.         1000000.         1000000.         1000000.\n",
      " 1000000.         1000000.         1000000.         1000000.\n",
      " 1000000.         1000000.         1000000.         1000000.\n",
      " 1000000.         1000000.         1000000.         1000000.\n",
      " 1000000.         1000000.         1000000.         1000000.\n",
      " 1000000.         1000000.         1000000.         1000000.\n",
      " 1000000.         1000000.         1000000.         1000000.\n",
      " 1000000.         1000000.         1000000.         1000000.\n",
      " 1000000.         1000000.         1000000.         1000000.\n",
      " 1000000.         1000000.         1000000.         1000000.\n",
      " 1000000.         1000000.         1000000.         1000000.\n",
      " 1000000.         1000000.         1000000.         1000000.\n",
      " 1000000.         1000000.         1000000.         1000000.\n",
      " 1000000.         1000000.         1000000.         1000000.\n",
      " 1000000.         1000000.         1000000.         1000000.\n",
      " 1000000.         1000000.         1000000.         1000000.\n",
      " 1000000.         1000000.         1000000.         1000000.\n",
      " 1000000.         1000000.         1000000.         1000000.\n",
      " 1000000.         1000000.         1000000.         1000000.\n",
      " 1000000.         1000000.         1000000.         1000000.\n",
      " 1000000.         1000000.         1000000.         1000000.\n",
      " 1000000.         1000000.         1000000.         1000000.\n",
      " 1000000.         1000000.         1000000.         1000000.\n",
      " 1000000.         1000000.         1000000.         1000000.\n",
      " 1000000.         1000000.         1000000.         1000000.\n",
      " 1000000.         1000000.         1000000.         1000000.\n",
      " 1000000.         1000000.         1000000.         1000000.\n",
      " 1000000.         1000000.         1000000.         1000000.\n",
      " 1000000.         1000000.         1000000.         1000000.\n",
      " 1000000.         1000000.         1000000.         1000000.\n",
      " 1000000.         1000000.         1000000.         1000000.\n",
      " 1000000.         1000000.         1000000.         1000000.\n",
      " 1000000.         1000000.         1000000.         1000000.\n",
      " 1000000.         1000000.         1000000.         1000000.\n",
      " 1000000.         1000000.         1000000.         1000000.\n",
      " 1000000.         1000000.         1000000.         1000000.\n",
      " 1000000.         1000000.         1000000.         1000000.\n",
      " 1000000.         1000000.         1000000.         1000000.\n",
      " 1000000.         1000000.         1000000.         1000000.\n",
      " 1000000.         1000000.         1000000.         1000000.\n",
      " 1000000.         1000000.         1000000.         1000000.\n",
      " 1000000.         1000000.         1000000.         1000000.\n",
      " 1000000.         1000000.         1000000.         1000000.\n",
      " 1000000.         1000000.         1000000.         1000000.\n",
      "  992868.18473653  992868.18473653  992868.18473653  927289.64004855\n",
      "  897310.58757514  897310.58757514  872085.65273371  872085.65273371\n",
      "  778633.0816091   752811.2987463   752811.2987463   752554.75979397\n",
      "  733031.37641606  725386.17542964  683939.44294201  683939.44294201\n",
      "  681827.25022513  680513.47447647  660111.53087801  632521.15164966\n",
      "  610618.88898942  610618.88898942  610124.90791919  608466.29107041\n",
      "  603889.61438314  582045.87095945  579460.66502039  577174.19279426\n",
      "  577174.19279426  558570.1440821   534224.19916562  534224.19916562\n",
      "  534224.19916562  493138.37011643  491023.48971982  489600.67182395\n",
      "  489600.67182395  456678.58414234  451289.30862036  443201.81792599\n",
      "  443201.81792599  395942.34976496  394679.57787041  394679.57787041\n",
      "  391988.31826466  391988.31826466  391988.31826466  357434.73461517\n",
      "  357434.73461517  353244.85063839  353244.85063839  334561.60462107\n",
      "  334561.60462107  334561.60462107  329051.29621341  300807.09266143\n",
      "  300807.09266143  288477.37863652  286483.42154203  280642.65826025\n",
      "  248590.89214416  248590.89214416  248590.89214416  235274.72344796\n",
      "  235274.72344796  234609.23236676  234609.23236676  231779.412693\n",
      "  193204.22796877  193204.22796877  193204.22796877  180500.57403267\n",
      "  169096.46809195  169096.46809195  157182.90801964  157182.90801964\n",
      "  157182.90801964  155002.32020621  155002.32020621  148677.1091166\n",
      "  137063.9346219   137030.68833682  137030.68833682  136335.36240486\n",
      "  123459.44490821  123459.44490821  113799.31871628  113557.96397369\n",
      "  113146.30478163  112254.37069804  108373.19112564  108373.19112564\n",
      "  107985.03404876  103619.71514799  103619.71514799  103309.49655557\n",
      "  101332.88713267  100974.34431737   90184.20385014   90184.20385014\n",
      "   90184.20385014   88077.66872611   88077.66872611   83179.10303769\n",
      "   83179.10303769   78442.09711135   78442.09711135   78442.09711135\n",
      "   74789.75156562   74715.88735416   72946.12194305   72946.12194305\n",
      "   72495.37712533   72495.37712533   68467.33877983   68441.7556615\n",
      "   68441.7556615    65965.16790982   65891.30369836   64836.76064108\n",
      "   62886.20653243   60687.48158743   60687.48158743   59454.52359778\n",
      "   58965.73859343   58368.32911356   58368.32911356   58307.97603941\n",
      "   53970.7520132    53970.7520132    53447.20674479   53447.20674479\n",
      "   52199.54377244   52199.54377244   52126.74332176   50911.15667611\n",
      "   50911.15667611   50711.05372108   50711.05372108   50379.73194825\n",
      "   50319.38292208   48829.41136231   48216.67462179   47783.51363979\n",
      "   47783.51363979   47158.87056062   47158.87056062   44189.57847595\n",
      "   44189.57847595   44189.57847595   43120.28728578   43120.28728578\n",
      "   42669.54246805   42669.54246805   40429.06147932   40429.06147932\n",
      "   40429.06147932   40393.51700969   39500.54918294   39294.64222715\n",
      "   39294.64222715   39259.09775751   39187.90034171   38876.04512056\n",
      "   38840.50065093   38840.50065093   38840.50065093   37269.05349418\n",
      "   37269.05349418   37269.05349418   37197.85607838   36087.75947252\n",
      "   36087.75947252   36087.75947252   35545.0796414    35161.92457969\n",
      "   35161.92457969   33905.82010987   33905.82010987   33905.82010987\n",
      "   32600.44336368   32600.44336368   28977.86311566   28977.86311566\n",
      "   27401.30047735   26577.93763714   26179.65193194   26179.65193194\n",
      "   25383.10406429   25383.10406429   25383.10406429   25383.10406429\n",
      "   25383.10406429   25383.10406429   25299.5935092    24756.76755757\n",
      "   24756.76755757   24062.13112495   24062.13112495   23667.10625904\n",
      "   23568.49689956   23241.78241177   23050.47373172   22985.514631  ]\n"
     ]
    }
   ],
   "source": [
    "print(algo_infor['CRO'].loss[0])"
   ]
  },
  {
   "cell_type": "code",
   "execution_count": 28,
   "metadata": {},
   "outputs": [
    {
     "name": "stdout",
     "output_type": "stream",
     "text": [
      "[0.56625534 0.90944753 0.71015767]\n"
     ]
    }
   ],
   "source": [
    "print(a[:,0])"
   ]
  }
 ],
 "metadata": {
  "kernelspec": {
   "display_name": "Python 3",
   "language": "python",
   "name": "python3"
  },
  "language_info": {
   "codemirror_mode": {
    "name": "ipython",
    "version": 3
   },
   "file_extension": ".py",
   "mimetype": "text/x-python",
   "name": "python",
   "nbconvert_exporter": "python",
   "pygments_lexer": "ipython3",
   "version": "3.6.3"
  }
 },
 "nbformat": 4,
 "nbformat_minor": 2
}
